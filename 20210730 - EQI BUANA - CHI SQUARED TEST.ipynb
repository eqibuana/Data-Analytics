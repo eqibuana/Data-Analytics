{
 "cells": [
  {
   "cell_type": "markdown",
   "metadata": {},
   "source": [
    "# CHI SQUARED TEST"
   ]
  },
  {
   "cell_type": "code",
   "execution_count": 1,
   "metadata": {},
   "outputs": [],
   "source": [
    "import pandas as pd\n",
    "ColumnNames=['CIBIL','AGE','GENDER' ,'SALARY', 'APPROVE_LOAN']\n",
    "DataValues=[ [480, 28, 'M', 610000, 'Yes'],\n",
    "             [480, 42, 'M',140000, 'No'],\n",
    "             [480, 29, 'F',420000, 'No'],\n",
    "             [490, 30, 'M',420000, 'No'],\n",
    "             [500, 27, 'M',420000, 'No'],\n",
    "             [510, 34, 'F',190000, 'No'],\n",
    "             [550, 24, 'M',330000, 'Yes'],\n",
    "             [560, 34, 'M',160000, 'Yes'],\n",
    "             [560, 25, 'F',300000, 'Yes'],\n",
    "             [570, 34, 'M',450000, 'Yes'],\n",
    "             [590, 30, 'F',140000, 'Yes'],\n",
    "             [600, 33, 'M',600000, 'Yes'],\n",
    "             [600, 22, 'M',400000, 'Yes'],\n",
    "             [600, 25, 'F',490000, 'Yes'],\n",
    "             [610, 32, 'M',120000, 'Yes'],\n",
    "             [630, 29, 'F',360000, 'Yes'],\n",
    "             [630, 30, 'M',480000, 'Yes'],\n",
    "             [660, 29, 'F',460000, 'Yes'],\n",
    "             [700, 32, 'M',470000, 'Yes'],\n",
    "             [740, 28, 'M',400000, 'Yes']]"
   ]
  },
  {
   "cell_type": "code",
   "execution_count": 2,
   "metadata": {},
   "outputs": [
    {
     "name": "stdout",
     "output_type": "stream",
     "text": [
      "   CIBIL  AGE GENDER  SALARY APPROVE_LOAN\n",
      "0    480   28      M  610000          Yes\n",
      "1    480   42      M  140000           No\n",
      "2    480   29      F  420000           No\n",
      "3    490   30      M  420000           No\n",
      "4    500   27      M  420000           No\n",
      "APPROVE_LOAN  No  Yes\n",
      "GENDER               \n",
      "F              2    5\n",
      "M              3   10\n",
      "The P-Value of the ChiSq Test is: 0.7866479436710674\n"
     ]
    }
   ],
   "source": [
    "#Create the Data Frame\n",
    "LoanData=pd.DataFrame(data=DataValues,columns=ColumnNames)\n",
    "print(LoanData.head())\n",
    "#########################################################\n",
    "# Cross tabulation between GENDER and APPROVE_LOAN\n",
    "CrosstabResult=pd.crosstab(index=LoanData['GENDER'],columns=LoanData['APPROVE_LOAN'])\n",
    "print(CrosstabResult)\n",
    " \n",
    "# importing the required function\n",
    "from scipy.stats import chi2_contingency\n",
    " \n",
    "# Performing Chi-sq test\n",
    "ChiSqResult = chi2_contingency(CrosstabResult)\n",
    " \n",
    "# P-Value is the Probability of H0 being True\n",
    "# If P-Value>0.05 then only we Accept the assumption(H0)\n",
    " \n",
    "print('The P-Value of the ChiSq Test is:', ChiSqResult[1])"
   ]
  }
 ],
 "metadata": {
  "kernelspec": {
   "display_name": "Python 3",
   "language": "python",
   "name": "python3"
  },
  "language_info": {
   "codemirror_mode": {
    "name": "ipython",
    "version": 3
   },
   "file_extension": ".py",
   "mimetype": "text/x-python",
   "name": "python",
   "nbconvert_exporter": "python",
   "pygments_lexer": "ipython3",
   "version": "3.7.5"
  }
 },
 "nbformat": 4,
 "nbformat_minor": 4
}
