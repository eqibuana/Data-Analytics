{
 "cells": [
  {
   "cell_type": "markdown",
   "metadata": {},
   "source": [
    "# ANOVA TEST"
   ]
  },
  {
   "cell_type": "code",
   "execution_count": 1,
   "metadata": {},
   "outputs": [
    {
     "name": "stdout",
     "output_type": "stream",
     "text": [
      "                                              sum_sq    df          F  \\\n",
      "C(fcategory, Sum)                          11.614700   2.0   0.276958   \n",
      "C(partner_status, Sum)                    212.213778   1.0  10.120692   \n",
      "C(fcategory, Sum):C(partner_status, Sum)  175.488928   2.0   4.184623   \n",
      "Residual                                  817.763961  39.0        NaN   \n",
      "\n",
      "                                            PR(>F)  \n",
      "C(fcategory, Sum)                         0.759564  \n",
      "C(partner_status, Sum)                    0.002874  \n",
      "C(fcategory, Sum):C(partner_status, Sum)  0.022572  \n",
      "Residual                                       NaN  \n"
     ]
    }
   ],
   "source": [
    "import statsmodels.api as sm\n",
    "from statsmodels.formula.api import ols\n",
    "\n",
    "moore = sm.datasets.get_rdataset(\"Moore\", \"carData\",  cache=True)\n",
    "\n",
    "data = moore.data\n",
    "\n",
    "data = data.rename(columns={\"partner.status\": \"partner_status\"})\n",
    "\n",
    "data.head()\n",
    "\n",
    "moore_lm = ols('conformity ~ C(fcategory, Sum)*C(partner_status, Sum)',data=data).fit()\n",
    "\n",
    "table = sm.stats.anova_lm(moore_lm, typ=2) # Type 2 ANOVA DataFrame\n",
    "\n",
    "print(table)"
   ]
  },
  {
   "cell_type": "code",
   "execution_count": null,
   "metadata": {},
   "outputs": [],
   "source": []
  }
 ],
 "metadata": {
  "kernelspec": {
   "display_name": "Python 3",
   "language": "python",
   "name": "python3"
  },
  "language_info": {
   "codemirror_mode": {
    "name": "ipython",
    "version": 3
   },
   "file_extension": ".py",
   "mimetype": "text/x-python",
   "name": "python",
   "nbconvert_exporter": "python",
   "pygments_lexer": "ipython3",
   "version": "3.7.5"
  }
 },
 "nbformat": 4,
 "nbformat_minor": 4
}
